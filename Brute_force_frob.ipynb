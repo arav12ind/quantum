{
 "cells": [
  {
   "cell_type": "code",
   "execution_count": 2,
   "id": "b0b6b7fc-0ab5-4576-8a5d-42f4deb7ff64",
   "metadata": {
    "tags": []
   },
   "outputs": [],
   "source": [
    "import random\n",
    "import math\n",
    "from functools import reduce\n",
    "from operator import mul\n",
    "from scipy.linalg import *\n",
    "import numpy as np\n",
    "import math"
   ]
  },
  {
   "cell_type": "code",
   "execution_count": 3,
   "id": "33d24c89-d51b-456c-83b8-514006683501",
   "metadata": {
    "tags": []
   },
   "outputs": [],
   "source": [
    "def nums(n=100):\n",
    "    out = list()\n",
    "    l = list(range(2,100))\n",
    "    gcd = l.pop()\n",
    "    out.append(gcd)\n",
    "    while True:\n",
    "        nl = random.sample(l,n)\n",
    "        if math.gcd(*nl)==1:\n",
    "            return nl"
   ]
  },
  {
   "cell_type": "code",
   "execution_count": 4,
   "id": "cf33d933-76c1-4284-b7ca-d0dc62d895ad",
   "metadata": {},
   "outputs": [
    {
     "name": "stdout",
     "output_type": "stream",
     "text": [
      "[6, 9, 20]\n",
      "75\n"
     ]
    }
   ],
   "source": [
    "c = [6,9,20]\n",
    "c.sort()\n",
    "l=c[0]\n",
    "g=c[-1]\n",
    "t1=sum(c)\n",
    "f=math.ceil((math.sqrt(reduce(mul,c[0:3])*t1)-t1)/2)\n",
    "n=f-l+1\n",
    "e=[0]*f\n",
    "for i in c:\n",
    "    e[i]=1\n",
    "print(c)\n",
    "print(n)"
   ]
  },
  {
   "cell_type": "code",
   "execution_count": 5,
   "id": "edef1015-be7b-454c-a242-5bfdf49f28be",
   "metadata": {},
   "outputs": [
    {
     "name": "stdout",
     "output_type": "stream",
     "text": [
      "43\n"
     ]
    }
   ],
   "source": [
    "for i in range(f):\n",
    "    if e[i]==0:\n",
    "        continue\n",
    "    for j in range(i+1):\n",
    "        if e[j]==1:\n",
    "            t=i+j\n",
    "            if t>=f:\n",
    "                break\n",
    "            e[t]=1\n",
    "print(f-1-e[::-1].index(0))"
   ]
  },
  {
   "cell_type": "code",
   "execution_count": null,
   "id": "300cbc82-37ca-40c4-bcb8-0322d1125132",
   "metadata": {},
   "outputs": [],
   "source": []
  }
 ],
 "metadata": {
  "kernelspec": {
   "display_name": "Python 3 (ipykernel)",
   "language": "python",
   "name": "python3"
  },
  "language_info": {
   "codemirror_mode": {
    "name": "ipython",
    "version": 3
   },
   "file_extension": ".py",
   "mimetype": "text/x-python",
   "name": "python",
   "nbconvert_exporter": "python",
   "pygments_lexer": "ipython3",
   "version": "3.9.10"
  }
 },
 "nbformat": 4,
 "nbformat_minor": 5
}
