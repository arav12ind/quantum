{
 "cells": [
  {
   "cell_type": "code",
   "execution_count": 1,
   "id": "e4f6db5c-e18e-4af0-83dc-63ac28790989",
   "metadata": {},
   "outputs": [],
   "source": [
    "from dwave.system import LeapHybridSampler,DWaveSampler, EmbeddingComposite\n",
    "from collections import defaultdict\n",
    "import math"
   ]
  },
  {
   "cell_type": "markdown",
   "id": "06b0386c-dc28-4334-ac7d-7b1f3ab65011",
   "metadata": {},
   "source": [
    "This program solves the 9x9 Sudoku problem using D-Waves quantum computer"
   ]
  },
  {
   "cell_type": "code",
   "execution_count": 2,
   "id": "ab516d0e-38b2-4968-9159-05f3604414b0",
   "metadata": {},
   "outputs": [],
   "source": [
    "sampler = LeapHybridSampler()"
   ]
  },
  {
   "cell_type": "code",
   "execution_count": 3,
   "id": "13520671-ea16-41ed-a5e5-d133a5750409",
   "metadata": {},
   "outputs": [],
   "source": [
    "\n",
    "S=[\n",
    "    [0,0,5,3,0,0,0,0,0],\n",
    "    [8,0,0,0,0,0,0,2,0],\n",
    "    [0,7,0,0,0,0,5,0,0],\n",
    "    [4,0,0,0,0,5,3,0,0],\n",
    "    [0,1,0,0,7,0,0,0,6],\n",
    "    [0,0,3,2,0,0,0,8,0],\n",
    "    [0,6,0,5,0,0,0,0,1],\n",
    "    [0,0,4,0,0,0,0,3,0],\n",
    "    [0,0,0,0,0,9,7,0,0]\n",
    "]\n",
    "\n",
    "n = len(S)\n",
    "N=int(math.sqrt(n))\n",
    "rn = range(n)\n",
    "\n",
    "def f(i: int,j: int,k: int) -> int:\n",
    "    return \"{}{}{}\".format(i,j,k)"
   ]
  },
  {
   "cell_type": "code",
   "execution_count": 4,
   "id": "b04b40e4-e8d6-41a2-bcc2-f034010e89a5",
   "metadata": {},
   "outputs": [
    {
     "name": "stdout",
     "output_type": "stream",
     "text": [
      "[(0, 0), (0, 3), (0, 6), (3, 0), (3, 3), (3, 6), (6, 0), (6, 3), (6, 6)] [(0, 0), (0, 1), (0, 2), (1, 0), (1, 1), (1, 2), (2, 0), (2, 1), (2, 2)]\n"
     ]
    }
   ],
   "source": [
    "Box=list()\n",
    "InBox=list()\n",
    "for i in range(N):\n",
    "    for j in range(N):\n",
    "        Box.append((i*N,j*N))\n",
    "        InBox.append((i,j))\n",
    "print(Box,InBox)"
   ]
  },
  {
   "cell_type": "code",
   "execution_count": 5,
   "id": "83c1f70e-bef4-4d47-9327-e51b4e0804e0",
   "metadata": {},
   "outputs": [],
   "source": [
    "Q = defaultdict(int)\n",
    "c=1\n",
    "        \n",
    "for i in rn:\n",
    "    for j in rn:\n",
    "        for k in rn:\n",
    "            \n",
    "            cel1 = f(i,j,k)\n",
    "            row1 = f(j,k,i)\n",
    "            col1 = f(k,j,i)\n",
    "            \n",
    "            # Hints\n",
    "            if S[i][j] == k+1:\n",
    "                Q[(cel1,cel1)]   = -2*c\n",
    "            else:\n",
    "                Q[(cel1,cel1)]  = -c\n",
    "\n",
    "            \n",
    "            \n",
    "            for k2 in range(k+1,n):\n",
    "                \n",
    "                cel2 = f(i,j,k2)\n",
    "                row2 = f(j,k2,i)\n",
    "                col2 = f(k2,j,i)\n",
    "                \n",
    "                Q[(cel1,cel2)]  = 2*c\n",
    "                Q[(row1,row2)]  = 2*c\n",
    "                Q[(col1,col2)]  = 2*c\n",
    "            \n",
    "            # Box number\n",
    "            i0 = (j // N)*N\n",
    "            j0 = (k // N)*N\n",
    "            # Boxes\n",
    "            for k1 in rn:\n",
    "                \n",
    "                i1,j1 = InBox[k1]\n",
    "                I = i0+i1\n",
    "                J = j0+j1\n",
    "                \n",
    "                box1 = f(I,J,i)\n",
    "                \n",
    "                for k2 in range(k1+1,n):\n",
    "                    \n",
    "                    i2,j2=InBox[k2]\n",
    "                    I1 = i0+i2\n",
    "                    J1 = j0+j2\n",
    "                    \n",
    "                    box2 = f(I1,J1,i)\n",
    "                    Q[(box1,box2)]  = 2*c\n",
    "            "
   ]
  },
  {
   "cell_type": "code",
   "execution_count": 6,
   "id": "f863e779-2ded-4a01-abeb-96c25417dc19",
   "metadata": {
    "tags": []
   },
   "outputs": [],
   "source": [
    "# Submit for solution\n",
    "answer = sampler.sample_qubo(Q)\n",
    "R = answer.first[0]"
   ]
  },
  {
   "cell_type": "markdown",
   "id": "99aef805-51ad-4934-9469-eacbaf7428b0",
   "metadata": {},
   "source": [
    "Input the solution to a matrix"
   ]
  },
  {
   "cell_type": "code",
   "execution_count": 7,
   "id": "00aa74ad-249f-4022-930a-95492d60bb5e",
   "metadata": {},
   "outputs": [
    {
     "name": "stdout",
     "output_type": "stream",
     "text": [
      "Solution\n",
      "2 9 5 3 6 4 1 7 8 \n",
      "8 4 1 9 5 7 6 2 3 \n",
      "3 7 6 1 8 2 5 9 4 \n",
      "4 8 7 6 9 5 3 1 2 \n",
      "9 1 2 8 7 3 4 5 6 \n",
      "6 5 3 2 4 1 9 8 7 \n",
      "7 6 9 5 3 8 2 4 1 \n",
      "5 2 4 7 1 6 8 3 9 \n",
      "1 3 8 4 2 9 7 6 5 \n"
     ]
    }
   ],
   "source": [
    "D = list()\n",
    "print('Solution')\n",
    "for i in range(n):\n",
    "    D_=list()\n",
    "    for j in range(n):\n",
    "        for k in range(n):\n",
    "            if R.get(f(i,j,k))==1:\n",
    "                print(k+1,end=' ')\n",
    "                D_.append(k+1)\n",
    "                break\n",
    "    D.append(D_)\n",
    "    print()"
   ]
  },
  {
   "cell_type": "markdown",
   "id": "469f1b19-04f6-4d9d-bd1c-42b68b32adca",
   "metadata": {},
   "source": [
    "Check if the solution found is a solution for the given problem."
   ]
  },
  {
   "cell_type": "code",
   "execution_count": 8,
   "id": "43afbec6-fdcf-4707-9f61-01b2235d2bf0",
   "metadata": {},
   "outputs": [
    {
     "name": "stdout",
     "output_type": "stream",
     "text": [
      "The solution found is a solution for the given question\n"
     ]
    }
   ],
   "source": [
    "flag=True\n",
    "for i in range(n):\n",
    "    for j in range(n):\n",
    "        if S[i][j]!=0 and S[i][j]!=D[i][j]:\n",
    "            print('At ({},{}) the solution does not match the question'.format(i,j))\n",
    "            flag=False\n",
    "if flag:\n",
    "    print('The solution found is a solution for the given question')"
   ]
  },
  {
   "cell_type": "markdown",
   "id": "98f67720-68fd-4d32-872a-d28391db394b",
   "metadata": {},
   "source": [
    "Check if the solution found is a valid Sudoku solution."
   ]
  },
  {
   "cell_type": "code",
   "execution_count": 15,
   "id": "4103a928-41d2-4b78-a9e5-00c456a523b0",
   "metadata": {},
   "outputs": [
    {
     "name": "stdout",
     "output_type": "stream",
     "text": [
      "Solution is a valid sudoku\n"
     ]
    }
   ],
   "source": [
    "flag=True\n",
    "for i in rn:\n",
    "    for j in rn:\n",
    "        x=set()\n",
    "        y=set()\n",
    "        for k in rn:\n",
    "            x.add(D[j][k])\n",
    "            y.add(D[k][j])\n",
    "        if len(x)!=n:\n",
    "            flag=False\n",
    "            print('In {}th row, only {} numbers are present.'.format(j,x))\n",
    "        if len(x)!=n:\n",
    "            flag=False\n",
    "            print('In {}th column, only {} numbers are present.'.format(j,y))\n",
    "        for k in rn:\n",
    "            \n",
    "            i0 = (j // N)*N\n",
    "            j0 = (k // N)*N\n",
    "            x=set()\n",
    "            # Boxes\n",
    "            for k1 in rn:\n",
    "                i1,j1 = InBox[k1]\n",
    "                I = i0+i1\n",
    "                J = j0+j1\n",
    "                x.add(D[I][J])\n",
    "            if len(x)!=n:\n",
    "                flag=False\n",
    "                print('In the box ({},{}), only {} numbers are present.'.format(I,J,x))\n",
    "if flag:\n",
    "    print('Solution is a valid sudoku')"
   ]
  },
  {
   "cell_type": "code",
   "execution_count": null,
   "id": "7d8ff390-1bb2-40e4-8e78-02c66bb679f9",
   "metadata": {},
   "outputs": [],
   "source": []
  }
 ],
 "metadata": {
  "kernelspec": {
   "display_name": "Python 3 (ipykernel)",
   "language": "python",
   "name": "python3"
  },
  "language_info": {
   "codemirror_mode": {
    "name": "ipython",
    "version": 3
   },
   "file_extension": ".py",
   "mimetype": "text/x-python",
   "name": "python",
   "nbconvert_exporter": "python",
   "pygments_lexer": "ipython3",
   "version": "3.10.4"
  }
 },
 "nbformat": 4,
 "nbformat_minor": 5
}
