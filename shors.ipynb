{
 "cells": [
  {
   "cell_type": "code",
   "execution_count": 1,
   "metadata": {},
   "outputs": [],
   "source": [
    "import numpy as np\n",
    "import math\n",
    "import matplotlib as mpl\n",
    "from qiskit import *\n",
    "from qiskit.visualization import *\n",
    "from qiskit.circuit.library import *\n",
    "from qiskit.providers.aer import QasmSimulator\n",
    "import qiskit.quantum_info as qi\n",
    "sim = Aer.get_backend('qasm_simulator')\n",
    "import  qiskit.circuit.library.grover_operator"
   ]
  },
  {
   "cell_type": "code",
   "execution_count": 2,
   "metadata": {},
   "outputs": [],
   "source": [
    "aer_sim = Aer.get_backend('aer_simulator')"
   ]
  },
  {
   "cell_type": "markdown",
   "metadata": {},
   "source": [
    "Implementation of the N=15 a=13 case of Shor's algorithm"
   ]
  },
  {
   "cell_type": "code",
   "execution_count": 3,
   "metadata": {},
   "outputs": [],
   "source": [
    "# This function is from qiskit textbook\n",
    "def c_amod15(a, power):\n",
    "    \"\"\"Controlled multiplication by a mod 15\"\"\"\n",
    "    if a not in [2,7,8,11,13]:\n",
    "        raise ValueError(\"'a' must be 2,7,8,11 or 13\")\n",
    "    U = QuantumCircuit(4)        \n",
    "    for iteration in range(power):\n",
    "        if a in [2,13]:\n",
    "            U.swap(0,1)\n",
    "            U.swap(1,2)\n",
    "            U.swap(2,3)\n",
    "        if a in [7,8]:\n",
    "            U.swap(2,3)\n",
    "            U.swap(1,2)\n",
    "            U.swap(0,1)\n",
    "        if a == 11:\n",
    "            U.swap(1,3)\n",
    "            U.swap(0,2)\n",
    "        if a in [7,11,13]:\n",
    "            for q in range(4):\n",
    "                U.x(q)\n",
    "    U = U.to_gate()\n",
    "    U.name = \"%i^%i mod 15\" % (a, power)\n",
    "    c_U = U.control()\n",
    "    return c_U"
   ]
  },
  {
   "cell_type": "code",
   "execution_count": 4,
   "metadata": {},
   "outputs": [],
   "source": [
    "def shors(a,n):\n",
    "    qc = QuantumCircuit(4+n, n)\n",
    "    rn = range(n)\n",
    "    rin = [i+n for i in range(4)]\n",
    "    for q in range(n):\n",
    "        qc.h(q)\n",
    "    qc.x(3+n)\n",
    "    for q in range(n):\n",
    "        qc.append(c_amod15(a, 2**q),[q]+rin)\n",
    "    qc.append(QFT(n,2,inverse=True),rn)\n",
    "    qc.measure(rn,rn)\n",
    "    return execute(qc,sim,shots=1024).result().get_counts()"
   ]
  },
  {
   "cell_type": "code",
   "execution_count": 5,
   "metadata": {},
   "outputs": [
    {
     "name": "stdout",
     "output_type": "stream",
     "text": [
      "{'1100000000': 242, '0100000000': 264, '0000000000': 270, '1000000000': 248}\n",
      "p =  3    q =  5\n"
     ]
    }
   ],
   "source": [
    "N = 15\n",
    "a = 13\n",
    "counts = shors( a, n = 10)\n",
    "print(counts)\n",
    "while len(counts)!=0:\n",
    "    s=counts.popitem()\n",
    "    r=int(s[0],2)\n",
    "    if r%2==1:\n",
    "        continue\n",
    "    t = int(a**(int(r)/2))\n",
    "    if t==1:\n",
    "        continue\n",
    "    p = math.gcd(t-1,N)\n",
    "    q = math.gcd(t+1,N)\n",
    "    if p==1 and q==1:\n",
    "        continue\n",
    "    if p==1:\n",
    "        if q != N:\n",
    "            print(q,'   ',N//q)\n",
    "            break\n",
    "    elif q ==1:\n",
    "        if p != N:\n",
    "            print(p,'   ',N//p)\n",
    "            break\n",
    "    else:\n",
    "        print('p = ',p,'   q = ',q)\n",
    "        break\n",
    "    print('p = ',p,'   q = ',q)\n"
   ]
  }
 ],
 "metadata": {
  "interpreter": {
   "hash": "37121adb5b8b0367a4b67de2431d38bdb39d8b5df46ec9e9fc34ea4eb241f6d2"
  },
  "kernelspec": {
   "display_name": "Python 3 (ipykernel)",
   "language": "python",
   "name": "python3"
  },
  "language_info": {
   "codemirror_mode": {
    "name": "ipython",
    "version": 3
   },
   "file_extension": ".py",
   "mimetype": "text/x-python",
   "name": "python",
   "nbconvert_exporter": "python",
   "pygments_lexer": "ipython3",
   "version": "3.10.4"
  }
 },
 "nbformat": 4,
 "nbformat_minor": 4
}
