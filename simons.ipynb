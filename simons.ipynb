{
 "cells": [
  {
   "cell_type": "code",
   "execution_count": null,
   "metadata": {},
   "outputs": [],
   "source": [
    "import numpy as np\n",
    "\n",
    "# Importing standard Qiskit libraries\n",
    "from qiskit import *\n",
    "from qiskit.visualization import *\n",
    "from qiskit.providers.aer import QasmSimulator\n",
    "from qiskit.providers.ibmq import *\n",
    "from qiskit.tools.monitor import job_monitor\n",
    "from qiskit.ignis.mitigation.measurement import (complete_meas_cal,CompleteMeasFitter)\n",
    "IBMQ.load_account()\n",
    "provider = IBMQ.get_provider(hub='ibm-q')\n",
    "sim = Aer.get_backend('qasm_simulator')"
   ]
  },
  {
   "cell_type": "code",
   "execution_count": null,
   "metadata": {},
   "outputs": [],
   "source": [
    "def oracleS(s):\n",
    "    n = len(s)\n",
    "    qc = QuantumCircuit(2*n)\n",
    "    for i in range(n):\n",
    "        if s[i] == '1':\n",
    "            for j in range(n):\n",
    "                if s[j] == '1':\n",
    "                    qc.cx(i,n+j)\n",
    "    return qc"
   ]
  },
  {
   "cell_type": "code",
   "execution_count": null,
   "metadata": {},
   "outputs": [],
   "source": [
    "def simons(s):\n",
    "    n = len(s)\n",
    "    h = QuantumCircuit(2*n,2*n)\n",
    "    h.h(range(n))\n",
    "    h.barrier()\n",
    "    qc = h.compose(oracleS(s))\n",
    "    qc.barrier()\n",
    "    r = range(n,2*n)\n",
    "    qc.measure(r,r)\n",
    "    qc.barrier()\n",
    "    qc.compose(h,inplace=True)\n",
    "    r = range(0,n)\n",
    "    qc.measure(r,r)\n",
    "    return qc"
   ]
  },
  {
   "cell_type": "code",
   "execution_count": null,
   "metadata": {},
   "outputs": [],
   "source": [
    "s = \"11\"\n",
    "n = len(s)\n",
    "qc = simons(s)\n",
    "qc.draw('mpl')"
   ]
  },
  {
   "cell_type": "code",
   "execution_count": null,
   "metadata": {},
   "outputs": [],
   "source": [
    "backend = least_busy(provider.backends(filters=lambda x: x.configuration().n_qubits >= n\n",
    "                                       and not x.configuration().simulator \n",
    "                                       and x.status().operational==True and x.name()!='ibmq_bogota'))\n",
    "print(\"least busy backend: \", backend)"
   ]
  },
  {
   "cell_type": "code",
   "execution_count": null,
   "metadata": {},
   "outputs": [],
   "source": [
    "m = execute(qc,backend=sim,shots=1024).result()\n",
    "print(m)\n",
    "plot_histogram(\n",
    "    m.get_counts()\n",
    "    #execute(qc,backend=sim,shots=1024).result().get_counts()\n",
    ")"
   ]
  },
  {
   "cell_type": "code",
   "execution_count": null,
   "metadata": {},
   "outputs": [],
   "source": [
    "job = execute(qc,backend=backend,shots=1024)\n",
    "job_monitor(job)\n",
    "plot_histogram(\n",
    "    job.result().get_counts()\n",
    ")"
   ]
  },
  {
   "cell_type": "code",
   "execution_count": null,
   "metadata": {},
   "outputs": [],
   "source": [
    "meas_fitter = CompleteMeasFitter(cal_results, state_label)\n",
    "meas_fitter.plot_calibration()"
   ]
  },
  {
   "cell_type": "code",
   "execution_count": null,
   "metadata": {},
   "outputs": [],
   "source": [
    "mit_res = meas_fitter.filter.apply(results)"
   ]
  }
 ],
 "metadata": {
  "interpreter": {
   "hash": "47dbda43370f4f6555f305a18c0b848b20dc242beb04b1e8d356bedcc4d6daeb"
  },
  "kernelspec": {
   "display_name": "Python 3.9.4 64-bit ('qc': conda)",
   "name": "python3"
  },
  "language_info": {
   "codemirror_mode": {
    "name": "ipython",
    "version": 3
   },
   "file_extension": ".py",
   "mimetype": "text/x-python",
   "name": "python",
   "nbconvert_exporter": "python",
   "pygments_lexer": "ipython3",
   "version": "3.9.4"
  },
  "orig_nbformat": 4
 },
 "nbformat": 4,
 "nbformat_minor": 2
}
