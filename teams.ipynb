{
 "metadata": {
  "language_info": {
   "codemirror_mode": {
    "name": "ipython",
    "version": 3
   },
   "file_extension": ".py",
   "mimetype": "text/x-python",
   "name": "python",
   "nbconvert_exporter": "python",
   "pygments_lexer": "ipython3",
   "version": "3.9.10"
  },
  "orig_nbformat": 4,
  "kernelspec": {
   "name": "python3",
   "display_name": "Python 3.9.10 64-bit"
  },
  "interpreter": {
   "hash": "4cd7ab41f5fca4b9b44701077e38c5ffd31fe66a6cab21e0214b68d958d0e462"
  }
 },
 "nbformat": 4,
 "nbformat_minor": 2,
 "cells": [
  {
   "cell_type": "code",
   "execution_count": null,
   "metadata": {},
   "outputs": [],
   "source": [
    "import networkx as nx\n",
    "from collections import defaultdict\n",
    "from dwave.system import DWaveSampler, EmbeddingComposite"
   ]
  },
  {
   "cell_type": "code",
   "execution_count": null,
   "metadata": {},
   "outputs": [],
   "source": [
    "G = nx.Graph([(0,4),(0,5),(1,2),(1,6),(2,4),(3,7),(5,6),(6,7)])\n",
    "Q = defaultdict(int)\n",
    "L = 4\n",
    "n = 8"
   ]
  },
  {
   "cell_type": "code",
   "execution_count": null,
   "metadata": {},
   "outputs": [],
   "source": [
    "\n",
    "for i in range(n):\n",
    "    Q[(i,i)] += -7*L\n",
    "    for j in range(i+1,n):\n",
    "        Q[(i,j)] += 2*L\n",
    "for i,j in G.edges:\n",
    "    Q[(i,i)] += 1\n",
    "    Q[(j,j)] += 1\n",
    "    Q[(i,j)] += -2\n",
    "\n",
    "s = EmbeddingComposite(DWaveSampler())\n",
    "ss = s.sample_qubo(Q,num_reads=1000,chain_strength=100)\n"
   ]
  },
  {
   "cell_type": "code",
   "execution_count": 9,
   "metadata": {},
   "outputs": [
    {
     "output_type": "stream",
     "name": "stdout",
     "text": [
      "[[0 1 1 0 0 0 0 0]\n",
      " [1 0 0 0 1 0 0 0]\n",
      " [1 0 0 0 0 1 0 0]\n",
      " [0 0 0 0 1 1 0 0]\n",
      " [0 1 0 1 0 0 0 0]\n",
      " [0 0 1 1 0 0 0 1]\n",
      " [0 0 0 0 0 0 0 1]\n",
      " [0 0 0 0 0 1 1 0]]\n",
      "/tmp/ipykernel_235/674877425.py:1: FutureWarning: adjacency_matrix will return a scipy.sparse array instead of a matrix in Networkx 3.0.\n",
      "  print(nx.adjacency_matrix(G).todense())\n"
     ]
    }
   ],
   "source": [
    "print(nx.adjacency_matrix(G).todense())"
   ]
  },
  {
   "cell_type": "code",
   "execution_count": null,
   "metadata": {},
   "outputs": [],
   "source": [
    "print(ss)"
   ]
  }
 ]
}