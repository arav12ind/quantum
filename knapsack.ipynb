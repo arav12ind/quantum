{
 "cells": [
  {
   "cell_type": "code",
   "execution_count": 1,
   "metadata": {},
   "outputs": [],
   "source": [
    "from collections import defaultdict\n",
    "from dwave.system import DWaveSampler, EmbeddingComposite"
   ]
  },
  {
   "cell_type": "markdown",
   "metadata": {},
   "source": [
    "sacks is set of integers,\n",
    "k is the number to equate with."
   ]
  },
  {
   "cell_type": "code",
   "execution_count": 2,
   "metadata": {},
   "outputs": [],
   "source": [
    "sacks = [10, 15, 40,35,20]\n",
    "k = 50\n",
    "n=len(sacks)\n",
    "Q = defaultdict(int)"
   ]
  },
  {
   "cell_type": "code",
   "execution_count": 3,
   "metadata": {},
   "outputs": [],
   "source": [
    "for i in range(n):\n",
    "    for j in range(i+1,n):\n",
    "        Q[(i,j)] = 2*sacks[i]*sacks[j]\n",
    "    Q[(i,i)] = sacks[i]*(sacks[i]-2*k)"
   ]
  },
  {
   "cell_type": "code",
   "execution_count": 4,
   "metadata": {},
   "outputs": [],
   "source": [
    "s = EmbeddingComposite(DWaveSampler())\n",
    "ss = s.sample_qubo(Q,num_reads=100)"
   ]
  },
  {
   "cell_type": "code",
   "execution_count": 9,
   "metadata": {},
   "outputs": [
    {
     "name": "stdout",
     "output_type": "stream",
     "text": [
      "{0: 0, 1: 1, 2: 0, 3: 1, 4: 0} \t 50\n",
      "{0: 1, 1: 0, 2: 1, 3: 0, 4: 0} \t 50\n",
      "{0: 0, 1: 0, 2: 0, 3: 1, 4: 1} \t 55\n",
      "{0: 0, 1: 1, 2: 1, 3: 0, 4: 0} \t 55\n",
      "{0: 1, 1: 0, 2: 0, 3: 1, 4: 0} \t 45\n",
      "{0: 1, 1: 1, 2: 0, 3: 0, 4: 1} \t 45\n",
      "{0: 0, 1: 0, 2: 1, 3: 0, 4: 0} \t 40\n",
      "{0: 0, 1: 0, 2: 1, 3: 0, 4: 1} \t 60\n"
     ]
    }
   ],
   "source": [
    "for i in range(8):\n",
    "    x = ss.samples()[i]\n",
    "    sum=0\n",
    "    for j in range(n):\n",
    "        sum += x[j]*sacks[j]\n",
    "    print(x,'\\t',sum)"
   ]
  },
  {
   "cell_type": "markdown",
   "metadata": {},
   "source": [
    "The descending order of energy of the state and the sum of the subset is printed above. It is clear that, the farther the state is from the solution, the higher the energy."
   ]
  }
 ],
 "metadata": {
  "interpreter": {
   "hash": "4cd7ab41f5fca4b9b44701077e38c5ffd31fe66a6cab21e0214b68d958d0e462"
  },
  "kernelspec": {
   "display_name": "Python 3 (ipykernel)",
   "language": "python",
   "name": "python3"
  },
  "language_info": {
   "codemirror_mode": {
    "name": "ipython",
    "version": 3
   },
   "file_extension": ".py",
   "mimetype": "text/x-python",
   "name": "python",
   "nbconvert_exporter": "python",
   "pygments_lexer": "ipython3",
   "version": "3.10.4"
  }
 },
 "nbformat": 4,
 "nbformat_minor": 4
}
